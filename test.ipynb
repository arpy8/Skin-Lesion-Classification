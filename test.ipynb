{
 "cells": [
  {
   "cell_type": "code",
   "execution_count": 1,
   "metadata": {},
   "outputs": [
    {
     "name": "stderr",
     "output_type": "stream",
     "text": [
      "c:\\Users\\arpit\\my_pc\\repos\\Skin-Lesion-Classification\\venv\\Lib\\site-packages\\tqdm\\auto.py:21: TqdmWarning: IProgress not found. Please update jupyter and ipywidgets. See https://ipywidgets.readthedocs.io/en/stable/user_install.html\n",
      "  from .autonotebook import tqdm as notebook_tqdm\n"
     ]
    }
   ],
   "source": [
    "%load_ext gradio"
   ]
  },
  {
   "cell_type": "code",
   "execution_count": 10,
   "metadata": {},
   "outputs": [],
   "source": [
    "import requests\n",
    "import numpy as np\n",
    "from PIL import Image\n",
    "import gradio as gr\n",
    "\n",
    "API_URL = 'https://arpy8-skin-lesion-obj-detection-api.hf.space/process_image'\n",
    "API_URL2 = 'https://arpy8-skin-lesion-classification-api.hf.space/predict'\n",
    "\n",
    "def clf_backup(image):\n",
    "    files = {'file': image}\n",
    "    headers = {'accept': 'application/json',\n",
    "               'User-Agent': 'Mozilla/5.0 (Windows NT 10.0; Win64; x64) AppleWebKit/537.36 (KHTML, like Gecko) Chrome/91.0.4472.124 Safari/537.36'}\n",
    "    response = requests.post(API_URL2, headers=headers, files=files)\n",
    "    response.raise_for_status()\n",
    "    result = response.json()\n",
    "    \n",
    "    return result\n",
    "\n",
    "def process_image(image):\n",
    "    if image is not None:\n",
    "        try:\n",
    "            files = {'file': image}\n",
    "            headers = {'accept': 'application/json'}\n",
    "            response = requests.post(API_URL, headers=headers, files=files)\n",
    "            response.raise_for_status()\n",
    "            \n",
    "            if response.status_code == 200:\n",
    "                annotated_image = response.json()['image']['annotated_image']\n",
    "                annotated_image = Image.fromarray(np.array(annotated_image).astype(np.uint8))\n",
    "\n",
    "                result = clf_backup(image)\n",
    "                \n",
    "                label = result['label']\n",
    "                description = result['description']\n",
    "                confidence = round(result['confidence'], 4) * 100\n",
    "                link = result['link']\n",
    "                \n",
    "                if confidence < 75:\n",
    "                    warning_message = \"The image might not be of a skin lesion.\"\n",
    "                else:\n",
    "                    warning_message = None\n",
    "\n",
    "                return annotated_image, label, description, confidence, link, warning_message\n",
    "        except requests.exceptions.HTTPError as e:\n",
    "            return None, None, None, None, None, f\"HTTP Error: {e}\"\n",
    "        except Exception as e:\n",
    "            return None, None, None, None, None, f\"An error occurred: {response.json()}\"\n",
    "    else:\n",
    "        return None, None, None, None, None, \"Please upload an image first.\"\n",
    "\n",
    "def interface(image):\n",
    "    annotated_image, label, description, confidence, link, warning_message = process_image(image)\n",
    "    return label, description, confidence, link, warning_message"
   ]
  },
  {
   "cell_type": "code",
   "execution_count": 8,
   "metadata": {},
   "outputs": [
    {
     "data": {
      "text/html": [
       "<div><iframe src=\"http://127.0.0.1:7861/\" width=\"100%\" height=\"500\" allow=\"autoplay; camera; microphone; clipboard-read; clipboard-write;\" frameborder=\"0\" allowfullscreen></iframe></div>"
      ],
      "text/plain": [
       "<IPython.core.display.HTML object>"
      ]
     },
     "execution_count": 8,
     "metadata": {},
     "output_type": "execute_result"
    },
    {
     "name": "stdout",
     "output_type": "stream",
     "text": [
      "IMPORTANT: You are using gradio version 3.50.0, however version 4.29.0 is available, please upgrade.\n",
      "--------\n",
      "IMPORTANT: You are using gradio version 3.50.0, however version 4.29.0 is available, please upgrade.\n",
      "--------\n"
     ]
    }
   ],
   "source": [
    "%%blocks\n",
    "\n",
    "\n",
    "    # results = {\n",
    "    #     \"Annotated Image\": annotated_image,\n",
    "    #     \"Label\": label,\n",
    "    #     \"Description\": description,\n",
    "    #     \"Confidence (%)\": confidence,\n",
    "    #     \"Link\": link,\n",
    "    #     \"Warning\": warning_message\n",
    "    # }\n",
    "    # return results\n",
    "\n",
    "with gr.Blocks() as demo:\n",
    "    iface = gr.Interface(\n",
    "        fn=interface,\n",
    "        inputs=gr.components.Image(type=\"filepath\", label=\"Upload an image\"),\n",
    "        outputs=[\n",
    "            # gr.components.Image(type=\"pil\", label=\"Annotated Image\"),\n",
    "            gr.components.Textbox(label=\"Label\"),\n",
    "            gr.components.Textbox(label=\"Description\"),\n",
    "            gr.components.Textbox(label=\"Confidence (%)\"),\n",
    "            gr.components.Textbox(label=\"Link\"),\n",
    "            gr.components.Textbox(label=\"Warning\")\n",
    "        ],\n",
    "        title=\"Skin Lesion Classification\",\n",
    "        description=\"Upload a skin lesion image to get its classification.\",\n",
    "    )\n",
    "\n",
    "    # iface.launch()"
   ]
  }
 ],
 "metadata": {
  "kernelspec": {
   "display_name": "venv",
   "language": "python",
   "name": "python3"
  },
  "language_info": {
   "codemirror_mode": {
    "name": "ipython",
    "version": 3
   },
   "file_extension": ".py",
   "mimetype": "text/x-python",
   "name": "python",
   "nbconvert_exporter": "python",
   "pygments_lexer": "ipython3",
   "version": "3.11.9"
  }
 },
 "nbformat": 4,
 "nbformat_minor": 2
}
